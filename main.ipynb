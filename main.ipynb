{
 "cells": [
  {
   "cell_type": "markdown",
   "id": "1fe437fc",
   "metadata": {},
   "source": [
    "# Best-Selling Amazon Books Analysis\n",
    "\n",
    "## Project Overview\n",
    "\n",
    "This project analyzes best-selling books data from Amazon using Python and pandas. The analysis explores trends, patterns, and insights from the dataset to understand what makes books successful on the platform.\n",
    "\n",
    "## Inspiration\n",
    "\n",
    "This project is inspired by the comprehensive tutorial available at [Codédx](https://www.codedx.io/projects/analyze-spreadsheet-data-with-pandas-chatgpt). The tutorial provides an excellent foundation for data analysis using pandas and serves as a practical guide for exploring spreadsheet data.\n",
    "\n",
    "## Objectives\n",
    "\n",
    "- Analyze sales patterns and trends in Amazon's best-selling books\n",
    "- Identify key factors that contribute to book success\n",
    "- Visualize data insights using matplotlib and seaborn\n",
    "- Practice data cleaning and manipulation techniques with pandas"
   ]
  },
  {
   "cell_type": "markdown",
   "id": "0d6d80c6",
   "metadata": {},
   "source": [
    "## Load the dataset\n",
    "- The dataset contains 550 books. The following columns are listed here:\n",
    "    - `Name`: Book name\n",
    "    - `Author`: Book author\n",
    "    - `User Rating`: Amazon user rating (0.0 - 5.0)\n",
    "    - `Reviews`: Number of user reviews\n",
    "    - `Price`: Book price (as of 2020)\n",
    "    - `Year`: The year(s) it ranked\n",
    "    - `Genre`: Fiction or non-fiction"
   ]
  },
  {
   "cell_type": "code",
   "execution_count": null,
   "id": "1fdcd5b5",
   "metadata": {
    "vscode": {
     "languageId": "plaintext"
    }
   },
   "outputs": [],
   "source": []
  }
 ],
 "metadata": {
  "language_info": {
   "name": "python"
  }
 },
 "nbformat": 4,
 "nbformat_minor": 5
}
