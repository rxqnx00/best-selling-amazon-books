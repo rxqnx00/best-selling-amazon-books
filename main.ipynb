{
 "cells": [
  {
   "cell_type": "markdown",
   "id": "1fe437fc",
   "metadata": {},
   "source": [
    "# Best-Selling Amazon Books Analysis\n",
    "\n",
    "## Project Overview\n",
    "\n",
    "This project analyzes best-selling books data from Amazon using Python and pandas. The analysis explores trends, patterns, and insights from the dataset to understand what makes books successful on the platform.\n",
    "\n",
    "## Inspiration\n",
    "\n",
    "This project is inspired by the comprehensive tutorial available at [Codédex](https://www.codedex.io/projects/analyze-spreadsheet-data-with-pandas-chatgpt). The tutorial provides an excellent foundation for data analysis using pandas and serves as a practical guide for exploring spreadsheet data.\n",
    "\n",
    "## Objectives\n",
    "\n",
    "- Analyze sales patterns and trends in Amazon's best-selling books\n",
    "- Identify key factors that contribute to book success\n",
    "- Visualize data insights using matplotlib and seaborn\n",
    "- Practice data cleaning and manipulation techniques with pandas"
   ]
  },
  {
   "cell_type": "markdown",
   "id": "0d6d80c6",
   "metadata": {},
   "source": [
    "## Load the dataset\n",
    "- The dataset contains 550 books. The following columns are listed here:\n",
    "    - `Name`: Book name\n",
    "    - `Author`: Book author\n",
    "    - `User Rating`: Amazon user rating (0.0 - 5.0)\n",
    "    - `Reviews`: Number of user reviews\n",
    "    - `Price`: Book price (as of 2020)\n",
    "    - `Year`: The year(s) it ranked\n",
    "    - `Genre`: Fiction or non-fiction"
   ]
  },
  {
   "cell_type": "code",
   "execution_count": null,
   "id": "edfb322b",
   "metadata": {},
   "outputs": [
    {
     "name": "stdout",
     "output_type": "stream",
     "text": [
      "Warning: Looks like you're using an outdated `kagglehub` version, please consider updating (latest version: 0.3.12)\n",
      "                                                Name  \\\n",
      "0                      10-Day Green Smoothie Cleanse   \n",
      "1                                  11/22/63: A Novel   \n",
      "2            12 Rules for Life: An Antidote to Chaos   \n",
      "3                             1984 (Signet Classics)   \n",
      "4  5,000 Awesome Facts (About Everything!) (Natio...   \n",
      "\n",
      "                     Author  User Rating  Reviews  Price  Year        Genre  \n",
      "0                  JJ Smith          4.7    17350      8  2016  Non Fiction  \n",
      "1              Stephen King          4.6     2052     22  2011      Fiction  \n",
      "2        Jordan B. Peterson          4.7    18979     15  2018  Non Fiction  \n",
      "3             George Orwell          4.7    21424      6  2017      Fiction  \n",
      "4  National Geographic Kids          4.8     7665     12  2019  Non Fiction  \n"
     ]
    }
   ],
   "source": [
    "# Import necessary libraries and dataset\n",
    "import pandas as pd\n",
    "import kagglehub\n",
    "path = kagglehub.dataset_download(\"sootersaalu/amazon-top-50-bestselling-books-2009-2019\")\n",
    "df = pd.read_csv(\"bestsellers.csv\")\n",
    "\n",
    "print(df.head())"
   ]
  },
  {
   "cell_type": "markdown",
   "id": "ab13aa28",
   "metadata": {},
   "source": [
    "## Clean the data"
   ]
  },
  {
   "cell_type": "code",
   "execution_count": 8,
   "id": "33f1046b",
   "metadata": {},
   "outputs": [
    {
     "name": "stdout",
     "output_type": "stream",
     "text": [
      "                                               Title  \\\n",
      "0                      10-Day Green Smoothie Cleanse   \n",
      "1                                  11/22/63: A Novel   \n",
      "2            12 Rules for Life: An Antidote to Chaos   \n",
      "3                             1984 (Signet Classics)   \n",
      "4  5,000 Awesome Facts (About Everything!) (Natio...   \n",
      "\n",
      "                     Author  Rating  Reviews  Price  Publication Year  \\\n",
      "0                  JJ Smith     4.7    17350    8.0              2016   \n",
      "1              Stephen King     4.6     2052   22.0              2011   \n",
      "2        Jordan B. Peterson     4.7    18979   15.0              2018   \n",
      "3             George Orwell     4.7    21424    6.0              2017   \n",
      "4  National Geographic Kids     4.8     7665   12.0              2019   \n",
      "\n",
      "         Genre  \n",
      "0  Non Fiction  \n",
      "1      Fiction  \n",
      "2  Non Fiction  \n",
      "3      Fiction  \n",
      "4  Non Fiction  \n"
     ]
    }
   ],
   "source": [
    "df.drop_duplicates(inplace = True)\n",
    "df.rename(columns = {\"Name\": \"Title\", \"Year\": \"Publication Year\", \"User Rating\": \"Rating\"}, inplace = True)\n",
    "df[\"Price\"] = df[\"Price\"].astype(float)\n",
    "\n",
    "print(df.head())"
   ]
  }
 ],
 "metadata": {
  "kernelspec": {
   "display_name": "Python (conda)",
   "language": "python",
   "name": "conda-base"
  },
  "language_info": {
   "codemirror_mode": {
    "name": "ipython",
    "version": 3
   },
   "file_extension": ".py",
   "mimetype": "text/x-python",
   "name": "python",
   "nbconvert_exporter": "python",
   "pygments_lexer": "ipython3",
   "version": "3.12.4"
  }
 },
 "nbformat": 4,
 "nbformat_minor": 5
}
